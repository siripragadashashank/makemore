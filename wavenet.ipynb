{
 "cells": [
  {
   "cell_type": "code",
   "execution_count": 1,
   "id": "a26ecf45",
   "metadata": {},
   "outputs": [],
   "source": [
    "import torch\n",
    "import torch.nn.functional as F\n",
    "\n",
    "import matplotlib.pyplot as plt\n",
    "%matplotlib inline\n",
    "\n",
    "%load_ext autoreload\n",
    "%autoreload 2"
   ]
  },
  {
   "cell_type": "code",
   "execution_count": 2,
   "id": "8a203ff0",
   "metadata": {},
   "outputs": [
    {
     "name": "stdout",
     "output_type": "stream",
     "text": [
      "['emma', 'olivia', 'ava', 'isabella', 'sophia']\n"
     ]
    }
   ],
   "source": [
    "with open('names.txt', 'r') as fp:\n",
    "    words = fp.read().splitlines()\n",
    "    \n",
    "print(words[:5])"
   ]
  },
  {
   "cell_type": "code",
   "execution_count": 3,
   "id": "c32c18a3",
   "metadata": {},
   "outputs": [
    {
     "name": "stdout",
     "output_type": "stream",
     "text": [
      "{1: 'a', 2: 'b', 3: 'c', 4: 'd', 5: 'e', 6: 'f', 7: 'g', 8: 'h', 9: 'i', 10: 'j', 11: 'k', 12: 'l', 13: 'm', 14: 'n', 15: 'o', 16: 'p', 17: 'q', 18: 'r', 19: 's', 20: 't', 21: 'u', 22: 'v', 23: 'w', 24: 'x', 25: 'y', 26: 'z', 0: '.'}\n"
     ]
    }
   ],
   "source": [
    "chars = sorted(list(set(\"\".join(words))))\n",
    "char_to_i = {char:i+1 for i, char in enumerate(chars)}\n",
    "char_to_i['.'] = 0\n",
    "i_to_char = {i:s for s, i in char_to_i.items()}\n",
    "print(i_to_char)"
   ]
  },
  {
   "cell_type": "code",
   "execution_count": 4,
   "id": "c8588a4d",
   "metadata": {},
   "outputs": [],
   "source": [
    "import random\n",
    "random.seed(42)\n",
    "random.shuffle(words)"
   ]
  },
  {
   "cell_type": "code",
   "execution_count": 5,
   "id": "ef2254f4",
   "metadata": {},
   "outputs": [
    {
     "name": "stdout",
     "output_type": "stream",
     "text": [
      "torch.Size([182625, 8]) torch.Size([182625])\n",
      "torch.Size([22655, 8]) torch.Size([22655])\n",
      "torch.Size([22866, 8]) torch.Size([22866])\n"
     ]
    }
   ],
   "source": [
    "ngram = 8\n",
    "\n",
    "def build_dataset(words):\n",
    "    X, Y = [], []\n",
    "    for w in words:\n",
    "        context = [0] * ngram\n",
    "        for ch in w + '.':\n",
    "            ix = char_to_i[ch]\n",
    "            X.append(context)\n",
    "            Y.append(ix)\n",
    "            context = context[1:] + [ix]\n",
    "\n",
    "    X = torch.tensor(X)\n",
    "    Y = torch.tensor(Y)\n",
    "    \n",
    "    print(X.shape, Y.shape)\n",
    "    return X, Y\n",
    "\n",
    "n1 = int(0.8*len(words))\n",
    "n2 = int(0.9*len(words))\n",
    "\n",
    "X_train, Y_train = build_dataset(words[:n1])\n",
    "X_dev, Y_dev = build_dataset(words[n1:n2])\n",
    "X_test, Y_test = build_dataset(words[n2:])\n"
   ]
  },
  {
   "cell_type": "code",
   "execution_count": 7,
   "id": "1de54a3b",
   "metadata": {},
   "outputs": [],
   "source": [
    "from utils import Linear, BatchNorm1d, Tanh, Embedding, FlattenConsecutive, Sequential"
   ]
  },
  {
   "cell_type": "code",
   "execution_count": 8,
   "id": "c0c4ecd8",
   "metadata": {},
   "outputs": [
    {
     "data": {
      "text/plain": [
       "<torch._C.Generator at 0x25385b2bf90>"
      ]
     },
     "execution_count": 8,
     "metadata": {},
     "output_type": "execute_result"
    }
   ],
   "source": [
    "torch.manual_seed(42)"
   ]
  },
  {
   "cell_type": "code",
   "execution_count": 46,
   "id": "00fea929",
   "metadata": {},
   "outputs": [
    {
     "name": "stdout",
     "output_type": "stream",
     "text": [
      "22397\n"
     ]
    }
   ],
   "source": [
    "ngram = 8\n",
    "vocab_len = len(i_to_char)\n",
    "embed_dim = 10\n",
    "hidden_dim = 68\n",
    "\n",
    "model = Sequential([\n",
    "    Embedding(vocab_len, embed_dim),\n",
    "    FlattenConsecutive(2), Linear(embed_dim * 2, hidden_dim, bias=False), BatchNorm1d(hidden_dim), Tanh(),\n",
    "    FlattenConsecutive(2), Linear(hidden_dim * 2, hidden_dim, bias=False), BatchNorm1d(hidden_dim), Tanh(),\n",
    "    FlattenConsecutive(2), Linear(hidden_dim * 2, hidden_dim, bias=False), BatchNorm1d(hidden_dim), Tanh(),\n",
    "    Linear(hidden_dim, vocab_len)\n",
    "])\n",
    "\n",
    "\n",
    "# with torch.no_grad():\n",
    "#     layers[-1].weight *= 0.1\n",
    "\n",
    "parameters = model.parameters()\n",
    "print(sum(p.nelement() for p in parameters))\n",
    "for p in parameters:\n",
    "    p.requires_grad = True"
   ]
  },
  {
   "cell_type": "code",
   "execution_count": 47,
   "id": "ce3974e4",
   "metadata": {},
   "outputs": [
    {
     "name": "stdout",
     "output_type": "stream",
     "text": [
      "torch.Size([4, 8])\n"
     ]
    }
   ],
   "source": [
    "ix = torch.randint(0, X_train.shape[0], (4,))\n",
    "Xb, Yb = X_train[ix], Y_train[ix]\n",
    "logits = model(Xb)\n",
    "print(Xb.shape)"
   ]
  },
  {
   "cell_type": "code",
   "execution_count": 48,
   "id": "286b4c18",
   "metadata": {},
   "outputs": [
    {
     "name": "stdout",
     "output_type": "stream",
     "text": [
      "Embedding (4, 8, 10)\n",
      "FlattenConsecutive (4, 4, 20)\n",
      "Linear (4, 4, 68)\n",
      "BatchNorm1d (4, 4, 68)\n",
      "Tanh (4, 4, 68)\n",
      "FlattenConsecutive (4, 2, 136)\n",
      "Linear (4, 2, 68)\n",
      "BatchNorm1d (4, 2, 68)\n",
      "Tanh (4, 2, 68)\n",
      "FlattenConsecutive (4, 136)\n",
      "Linear (4, 68)\n",
      "BatchNorm1d (4, 68)\n",
      "Tanh (4, 68)\n",
      "Linear (4, 27)\n"
     ]
    }
   ],
   "source": [
    "for layer in model.layers:\n",
    "    print(layer.__class__.__name__,tuple(layer.out.shape))"
   ]
  },
  {
   "cell_type": "code",
   "execution_count": 49,
   "id": "8a83bde9",
   "metadata": {},
   "outputs": [
    {
     "name": "stdout",
     "output_type": "stream",
     "text": [
      "loss 0/200000: 3.5670\n"
     ]
    }
   ],
   "source": [
    "max_steps = 200000\n",
    "batch_size = 32\n",
    "lossi = []\n",
    "\n",
    "ud = []\n",
    "for i in range(max_steps):\n",
    "    \n",
    "    # get a minibatch\n",
    "    idxs = torch.randint(0, X_train.shape[0], (batch_size,))\n",
    "    X, Y = X_train[idxs], Y_train[idxs]\n",
    "    \n",
    "    logits = model(X)\n",
    "    loss = F.cross_entropy(logits, Y)\n",
    "    \n",
    "    for p in parameters:\n",
    "        p.grad = None\n",
    "    loss.backward()\n",
    "    \n",
    "    lr = 0.1 if i < 150000 else 0.01\n",
    "    for p in parameters:\n",
    "        p.data += -lr * p.grad\n",
    "        \n",
    "    if i % 10000 == 0:\n",
    "        print(f\"loss {i}/{max_steps}: {loss.item():.4f}\")\n",
    "    lossi.append(loss.log10().item())\n",
    "\n",
    "    break"
   ]
  },
  {
   "cell_type": "code",
   "execution_count": null,
   "id": "b3b5c302",
   "metadata": {},
   "outputs": [],
   "source": [
    "plt.plot(torch.tensor(lossi).view(-1, 1000).mean(1))"
   ]
  },
  {
   "cell_type": "code",
   "execution_count": 59,
   "id": "467e7542",
   "metadata": {},
   "outputs": [
    {
     "name": "stdout",
     "output_type": "stream",
     "text": [
      "train: 3.53708815574646\n",
      "dev: 3.538801431655884\n"
     ]
    }
   ],
   "source": [
    "for layer in model.layers:\n",
    "    layer.training = False\n",
    "    \n",
    "@torch.no_grad()\n",
    "def split_loss(split):\n",
    "    X, Y = {\n",
    "            'train': (X_train, Y_train),\n",
    "            'dev': (X_dev, Y_dev),\n",
    "            'test': (X_test, Y_test)\n",
    "           }[split]\n",
    "\n",
    "    logits = model(X)\n",
    "    loss = F.cross_entropy(logits, Y)\n",
    "    print(f\"{split}: {loss.item()}\")\n",
    "    \n",
    "split_loss('train')\n",
    "split_loss('dev')"
   ]
  },
  {
   "cell_type": "code",
   "execution_count": 60,
   "id": "30550991",
   "metadata": {},
   "outputs": [
    {
     "name": "stdout",
     "output_type": "stream",
     "text": [
      "pj.\n",
      "sbw.\n",
      "snswtaihbtfiiflwlj.\n",
      "baajnildgcxscepmgrlmxsogfwinqozjtvw.\n",
      "limecgjatqpc.\n",
      "dkgujsplsodoctlfktqvwxqfw.\n",
      "dszixsxaugzakwuaufuzpcznjkzrzohlhdivsqbtfscturiztcuyxlqfnvzyqzspdrcivqztbpkwzsdrfmwkntdcfxgbxdkjph.\n",
      "sciqxhwtazwyjbsz.\n",
      "arwehaayrdwwx.\n",
      "jqmcphmyqgnnifyidprqmzltklkkbwrivvstbsrhwh.\n",
      "lqislpdjadn.\n",
      "pxyhkudcgxz.\n",
      "eqlafpxkhlwspjxiiesxftnvjeyjatuzpuxhoeolafefkcylmxyhdbfxolidzqmc.\n",
      "ebogsshwtlllh.\n",
      "jjlrqlwbtx.\n",
      "jstkxkifxvqyzdrhkakrgabrhmxjbtcfhlpojqnpskovcqtisixqyrmccwbtqxqvjh.\n",
      "xrqhmdbbaflilmvazsoiubftqscgpqlmfzafwddhlckfbipoihlqebjs.\n",
      "qsuonnlcybalftsseqgfpaeybnfcdfcqrfvujkyqzrrlhlrmexqouqgcscuysiordlfltafvxkjblfmvkfbzfybulr.\n",
      "xwigmrwbukwlfehwcfqfla.\n",
      "ql.\n"
     ]
    }
   ],
   "source": [
    "for _ in range(20):\n",
    "    out = []\n",
    "    context = [0] * ngram\n",
    "    while True:\n",
    "        logits = model(torch.tensor([context]))\n",
    "        probs = F.softmax(logits, dim=1)\n",
    "        next_idx = torch.multinomial(probs, num_samples=1).item()\n",
    "        context = context[1:] + [next_idx]\n",
    "        out.append(i_to_char[next_idx])\n",
    "        if next_idx == 0:\n",
    "            break\n",
    "    print(''.join(out))      \n",
    "        "
   ]
  },
  {
   "cell_type": "code",
   "execution_count": null,
   "id": "646624d3",
   "metadata": {},
   "outputs": [],
   "source": []
  }
 ],
 "metadata": {
  "kernelspec": {
   "display_name": "Python 3 (ipykernel)",
   "language": "python",
   "name": "python3"
  },
  "language_info": {
   "codemirror_mode": {
    "name": "ipython",
    "version": 3
   },
   "file_extension": ".py",
   "mimetype": "text/x-python",
   "name": "python",
   "nbconvert_exporter": "python",
   "pygments_lexer": "ipython3",
   "version": "3.9.16"
  }
 },
 "nbformat": 4,
 "nbformat_minor": 5
}
