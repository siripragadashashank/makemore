{
 "cells": [
  {
   "cell_type": "code",
   "execution_count": 1,
   "id": "4009896c",
   "metadata": {},
   "outputs": [],
   "source": [
    "import torch\n",
    "import torch.nn.functional as F\n",
    "\n",
    "import matplotlib.pyplot as plt\n",
    "%matplotlib inline"
   ]
  },
  {
   "cell_type": "code",
   "execution_count": 2,
   "id": "fea30980",
   "metadata": {},
   "outputs": [
    {
     "data": {
      "text/plain": [
       "['emma', 'olivia', 'ava', 'isabella', 'sophia']"
      ]
     },
     "execution_count": 2,
     "metadata": {},
     "output_type": "execute_result"
    }
   ],
   "source": [
    "with open('names.txt', 'r') as fp:\n",
    "    words = fp.read().splitlines()\n",
    "    \n",
    "words[:5]"
   ]
  },
  {
   "cell_type": "code",
   "execution_count": 3,
   "id": "76aeb76e",
   "metadata": {},
   "outputs": [
    {
     "name": "stdout",
     "output_type": "stream",
     "text": [
      "{1: 'a', 2: 'b', 3: 'c', 4: 'd', 5: 'e', 6: 'f', 7: 'g', 8: 'h', 9: 'i', 10: 'j', 11: 'k', 12: 'l', 13: 'm', 14: 'n', 15: 'o', 16: 'p', 17: 'q', 18: 'r', 19: 's', 20: 't', 21: 'u', 22: 'v', 23: 'w', 24: 'x', 25: 'y', 26: 'z', 0: '.'}\n"
     ]
    }
   ],
   "source": [
    "chars = sorted(list(set(\"\".join(words))))\n",
    "char_to_i = {char:i+1 for i, char in enumerate(chars)}\n",
    "char_to_i['.'] = 0\n",
    "i_to_char = {i:s for s, i in char_to_i.items()}\n",
    "print(i_to_char)"
   ]
  },
  {
   "cell_type": "code",
   "execution_count": 4,
   "id": "5b3225bd",
   "metadata": {},
   "outputs": [
    {
     "name": "stdout",
     "output_type": "stream",
     "text": [
      "torch.Size([182625, 3]) torch.Size([182625])\n",
      "torch.Size([22655, 3]) torch.Size([22655])\n",
      "torch.Size([22866, 3]) torch.Size([22866])\n"
     ]
    }
   ],
   "source": [
    "ngram = 3\n",
    "\n",
    "def build_dataset(words):\n",
    "    X, Y = [], []\n",
    "    for w in words:\n",
    "        context = [0] * ngram\n",
    "        for ch in w + '.':\n",
    "            ix = char_to_i[ch]\n",
    "            X.append(context)\n",
    "            Y.append(ix)\n",
    "            context = context[1:] + [ix]\n",
    "\n",
    "    X = torch.tensor(X)\n",
    "    Y = torch.tensor(Y)\n",
    "    \n",
    "    print(X.shape, Y.shape)\n",
    "    return X, Y\n",
    "\n",
    "import random\n",
    "random.seed(42)\n",
    "random.shuffle(words)\n",
    "\n",
    "n1 = int(0.8*len(words))\n",
    "n2 = int(0.9*len(words))\n",
    "\n",
    "X_train, Y_train = build_dataset(words[:n1])\n",
    "X_dev, Y_dev = build_dataset(words[n1:n2])\n",
    "X_test, Y_test = build_dataset(words[n2:])\n"
   ]
  },
  {
   "cell_type": "code",
   "execution_count": 5,
   "id": "a55da579",
   "metadata": {},
   "outputs": [
    {
     "name": "stdout",
     "output_type": "stream",
     "text": [
      "num params: 11897\n"
     ]
    }
   ],
   "source": [
    "vocab_len = len(i_to_char)\n",
    "embed_dim = 10\n",
    "hidden_dim = 200\n",
    "\n",
    "g = torch.Generator().manual_seed(2147483647)\n",
    "C = torch.randn((vocab_len, embed_dim), generator=g)\n",
    "W1 = torch.randn((embed_dim * ngram, hidden_dim), generator=g)\n",
    "b1 = torch.randn(hidden_dim, generator=g)\n",
    "W2 = torch.randn((hidden_dim, vocab_len), generator=g) * 0.01\n",
    "b2 = torch.randn(vocab_len, generator=g) * 0\n",
    "\n",
    "\n",
    "parameters = [C, W1, b1, W2, b2]\n",
    "print(f\"num params: {sum(p.nelement() for p in parameters)}\")\n",
    "\n",
    "for p in parameters:\n",
    "    p.requires_grad = True"
   ]
  },
  {
   "cell_type": "code",
   "execution_count": 6,
   "id": "8d62dc27",
   "metadata": {},
   "outputs": [
    {
     "name": "stdout",
     "output_type": "stream",
     "text": [
      "0/200000: 3.6643\n"
     ]
    }
   ],
   "source": [
    "max_steps = 200000\n",
    "batch_size = 32\n",
    "lossi = []\n",
    "\n",
    "for i in range(max_steps):\n",
    "    \n",
    "    idxs = torch.randint(0, X_train.shape[0], (batch_size,), generator=g)\n",
    "    X, Y = X_train[idxs], Y_train[idxs]\n",
    "    # print(C.shape, X.shape, C[X].shape)\n",
    "    emb = C[X]\n",
    "    emb_concat = emb.view(emb.shape[0], -1)\n",
    "    h = emb_concat @ W1 + b1\n",
    "    # print(emb_concat.shape)\n",
    "    a = torch.tanh(h)\n",
    "    logits = h @ W2 + b2\n",
    "    loss = F.cross_entropy(logits, Y)\n",
    "    \n",
    "    for p in parameters:\n",
    "        p.grad = None\n",
    "    loss.backward()\n",
    "    \n",
    "    lr = 0.1 if i < 100000 else 0.01\n",
    "    \n",
    "    for p in parameters:\n",
    "        p.data += -lr * p.grad\n",
    "        \n",
    "    if i%10000 == 0:\n",
    "        print(f\"{i}/{max_steps}: {loss.item():.4f}\")\n",
    "    lossi.append(loss.log10().item())\n",
    "    \n",
    "    break"
   ]
  },
  {
   "cell_type": "code",
   "execution_count": 8,
   "id": "41b54dd8",
   "metadata": {},
   "outputs": [
    {
     "data": {
      "text/plain": [
       "(array([2069.,  144.,  106.,   82.,   59.,   56.,   44.,   30.,   43.,\n",
       "          26.,   16.,   38.,   16.,   32.,   24.,   14.,   28.,   27.,\n",
       "          26.,   19.,   24.,   26.,   30.,   14.,   19.,   19.,   22.,\n",
       "          26.,   18.,   12.,   10.,   33.,   27.,   32.,   17.,   24.,\n",
       "          30.,   22.,   26.,   29.,   26.,   40.,   29.,   41.,   49.,\n",
       "          64.,   62.,  100.,  188., 2442.]),\n",
       " array([-1.  , -0.96, -0.92, -0.88, -0.84, -0.8 , -0.76, -0.72, -0.68,\n",
       "        -0.64, -0.6 , -0.56, -0.52, -0.48, -0.44, -0.4 , -0.36, -0.32,\n",
       "        -0.28, -0.24, -0.2 , -0.16, -0.12, -0.08, -0.04,  0.  ,  0.04,\n",
       "         0.08,  0.12,  0.16,  0.2 ,  0.24,  0.28,  0.32,  0.36,  0.4 ,\n",
       "         0.44,  0.48,  0.52,  0.56,  0.6 ,  0.64,  0.68,  0.72,  0.76,\n",
       "         0.8 ,  0.84,  0.88,  0.92,  0.96,  1.  ]),\n",
       " <BarContainer object of 50 artists>)"
      ]
     },
     "execution_count": 8,
     "metadata": {},
     "output_type": "execute_result"
    },
    {
     "data": {
      "image/png": "[encoded data removed]",
      "text/plain": [
       "<Figure size 640x480 with 1 Axes>"
      ]
     },
     "metadata": {},
     "output_type": "display_data"
    }
   ],
   "source": [
    "plt.hist(a.view(-1).tolist() , 50)"
   ]
  },
  {
   "cell_type": "code",
   "execution_count": 9,
   "id": "f9fa2dea",
   "metadata": {},
   "outputs": [
    {
     "data": {
      "text/plain": [
       "(array([  2.,   2.,   1.,   4.,   2.,   4.,   6.,  15.,   5.,  25.,  32.,\n",
       "         49.,  56.,  59.,  92., 119., 134., 197., 195., 221., 257., 275.,\n",
       "        297., 341., 353., 375., 369., 349., 358., 362., 271., 312., 229.,\n",
       "        206., 190., 167.,  87., 111.,  72.,  55.,  41.,  22.,  23.,  18.,\n",
       "         17.,   8.,   5.,   7.,   2.,   1.]),\n",
       " array([-19.05793571, -18.31571732, -17.57349892, -16.83128052,\n",
       "        -16.08906212, -15.34684372, -14.60462532, -13.86240692,\n",
       "        -13.12018852, -12.37797012, -11.63575172, -10.89353333,\n",
       "        -10.15131493,  -9.40909653,  -8.66687813,  -7.92465973,\n",
       "         -7.18244133,  -6.44022293,  -5.69800453,  -4.95578613,\n",
       "         -4.21356773,  -3.47134933,  -2.72913094,  -1.98691254,\n",
       "         -1.24469414,  -0.50247574,   0.23974266,   0.98196106,\n",
       "          1.72417946,   2.46639786,   3.20861626,   3.95083466,\n",
       "          4.69305305,   5.43527145,   6.17748985,   6.91970825,\n",
       "          7.66192665,   8.40414505,   9.14636345,   9.88858185,\n",
       "         10.63080025,  11.37301865,  12.11523705,  12.85745544,\n",
       "         13.59967384,  14.34189224,  15.08411064,  15.82632904,\n",
       "         16.56854744,  17.31076584,  18.05298424]),\n",
       " <BarContainer object of 50 artists>)"
      ]
     },
     "execution_count": 9,
     "metadata": {},
     "output_type": "execute_result"
    },
    {
     "data": {
      "image/png": "[encoded data removed]",
      "text/plain": [
       "<Figure size 640x480 with 1 Axes>"
      ]
     },
     "metadata": {},
     "output_type": "display_data"
    }
   ],
   "source": [
    "plt.hist(h.view(-1).tolist() , 50)"
   ]
  },
  {
   "cell_type": "code",
   "execution_count": null,
   "id": "27b69b6b",
   "metadata": {},
   "outputs": [],
   "source": [
    "plt.plot(lossi)"
   ]
  },
  {
   "cell_type": "markdown",
   "id": "6cfe9965",
   "metadata": {},
   "source": [
    "### Split loss"
   ]
  },
  {
   "cell_type": "code",
   "execution_count": null,
   "id": "2626f40b",
   "metadata": {},
   "outputs": [],
   "source": [
    "@torch.no_grad()\n",
    "\n",
    "def split_loss(split):\n",
    "    X, Y = {\n",
    "            'train': (X_train, Y_train),\n",
    "            'dev': (X_dev, Y_dev),\n",
    "            'test': (X_test, Y_test)\n",
    "           }[split]\n",
    "\n",
    "    emb = C[X]\n",
    "    emb_concat = emb.view(emb.shape[0], -1)\n",
    "    # print(emb_concat.shape)\n",
    "    h1 = torch.tanh(emb_concat @ W1 + b1)\n",
    "    logits = h1 @ W2 + b2\n",
    "    loss = F.cross_entropy(logits, Y)\n",
    "    print(f\"{split}: {loss.item(): .4f}\")\n",
    "    \n",
    "split_loss('train')\n",
    "split_loss('dev')"
   ]
  },
  {
   "cell_type": "markdown",
   "id": "468283f9",
   "metadata": {},
   "source": [
    "### Sample"
   ]
  },
  {
   "cell_type": "code",
   "execution_count": null,
   "id": "87a63567",
   "metadata": {},
   "outputs": [],
   "source": [
    "g = torch.Generator().manual_seed(2147483647 + 10)\n",
    "\n",
    "for _ in range(20):\n",
    "    out = []\n",
    "    context = [0] * ngram\n",
    "    while True:\n",
    "        emb = C[torch.tensor(context)]\n",
    "        h1 = torch.tanh(emb.view(1, -1) @ W1 + b1)\n",
    "        logits = h1 @ W2 + b2\n",
    "        # counts = logits.exp()\n",
    "        # probs = counts/counts.sum(dim=1, keepdims=True)\n",
    "        probs = F.softmax(logits, dim=1)\n",
    "        next_idx = torch.multinomial(probs, num_samples=1, generator=g).item()\n",
    "        context = context[1:] + [next_idx]\n",
    "        out.append(i_to_char[next_idx])\n",
    "        if next_idx == 0:\n",
    "            break\n",
    "    print(''.join(out))      \n",
    "        \n",
    "    "
   ]
  },
  {
   "cell_type": "code",
   "execution_count": null,
   "id": "447130fd",
   "metadata": {},
   "outputs": [],
   "source": []
  }
 ],
 "metadata": {
  "kernelspec": {
   "display_name": "Python 3 (ipykernel)",
   "language": "python",
   "name": "python3"
  },
  "language_info": {
   "codemirror_mode": {
    "name": "ipython",
    "version": 3
   },
   "file_extension": ".py",
   "mimetype": "text/x-python",
   "name": "python",
   "nbconvert_exporter": "python",
   "pygments_lexer": "ipython3",
   "version": "3.9.16"
  }
 },
 "nbformat": 4,
 "nbformat_minor": 5
}
