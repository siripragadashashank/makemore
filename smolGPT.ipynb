{
 "cells": [
  {
   "cell_type": "code",
   "execution_count": 45,
   "id": "6f5b4d94",
   "metadata": {},
   "outputs": [
    {
     "name": "stdout",
     "output_type": "stream",
     "text": [
      "The autoreload extension is already loaded. To reload it, use:\n",
      "  %reload_ext autoreload\n"
     ]
    }
   ],
   "source": [
    "import torch\n",
    "import torch.nn as nn\n",
    "import torch.nn.functional as F\n",
    "\n",
    "%load_ext autoreload\n",
    "%autoreload 2"
   ]
  },
  {
   "cell_type": "code",
   "execution_count": 2,
   "id": "5694afab",
   "metadata": {},
   "outputs": [],
   "source": [
    "from BLM import BLModel"
   ]
  },
  {
   "cell_type": "code",
   "execution_count": 3,
   "id": "8fa7c1b0",
   "metadata": {},
   "outputs": [
    {
     "name": "stdout",
     "output_type": "stream",
     "text": [
      "1115394\n"
     ]
    }
   ],
   "source": [
    "with open('input.txt', 'r', encoding='utf-8') as fp:\n",
    "    text = fp.read()\n",
    "\n",
    "    \n",
    "print(len(text))"
   ]
  },
  {
   "cell_type": "code",
   "execution_count": 4,
   "id": "424fc6f1",
   "metadata": {},
   "outputs": [
    {
     "data": {
      "text/plain": [
       "63"
      ]
     },
     "execution_count": 4,
     "metadata": {},
     "output_type": "execute_result"
    }
   ],
   "source": [
    "max([len(line) for line in text.splitlines()])"
   ]
  },
  {
   "cell_type": "code",
   "execution_count": 5,
   "id": "3fdc5aaa",
   "metadata": {},
   "outputs": [
    {
     "data": {
      "text/plain": [
       "65"
      ]
     },
     "execution_count": 5,
     "metadata": {},
     "output_type": "execute_result"
    }
   ],
   "source": [
    "chars = sorted(list(set(text)))\n",
    "vocab_len = len(chars)\n",
    "vocab_len"
   ]
  },
  {
   "cell_type": "code",
   "execution_count": 6,
   "id": "dfc3535f",
   "metadata": {},
   "outputs": [
    {
     "name": "stdout",
     "output_type": "stream",
     "text": [
      "[46, 43, 50, 50, 53]\n",
      "hello\n"
     ]
    }
   ],
   "source": [
    "stoi = {ch:i for i, ch in enumerate(chars)}\n",
    "itos = {i:ch for i, ch in enumerate(chars)}\n",
    "encode = lambda s:[stoi[c] for c in s]\n",
    "decode = lambda l: \"\".join([itos[i] for i in l])\n",
    "print(encode(\"hello\"))\n",
    "print(decode([46, 43, 50, 50, 53]))"
   ]
  },
  {
   "cell_type": "code",
   "execution_count": 7,
   "id": "9dc7e22f",
   "metadata": {},
   "outputs": [
    {
     "data": {
      "text/plain": [
       "torch.Size([1115394])"
      ]
     },
     "execution_count": 7,
     "metadata": {},
     "output_type": "execute_result"
    }
   ],
   "source": [
    "encoded_text = encode(text)\n",
    "data = torch.tensor(encoded_text, dtype=torch.long)\n",
    "data.shape"
   ]
  },
  {
   "cell_type": "code",
   "execution_count": 72,
   "id": "ac762a67",
   "metadata": {},
   "outputs": [],
   "source": [
    "n = int(0.9*len(data))\n",
    "train = data[:n]\n",
    "val = data[n:]"
   ]
  },
  {
   "cell_type": "code",
   "execution_count": 73,
   "id": "c6afb869",
   "metadata": {},
   "outputs": [],
   "source": [
    "block_size = 8"
   ]
  },
  {
   "cell_type": "code",
   "execution_count": 87,
   "id": "bffd72e6",
   "metadata": {},
   "outputs": [],
   "source": [
    "torch.manual_seed(1337)\n",
    "batch_size = 4\n",
    "\n",
    "def get_batch(split, batch_size):\n",
    "    data = train if split=='train' else val\n",
    "    ix = torch.randint(0, len(data) - block_size, (batch_size,))\n",
    "    x = torch.stack([data[i:i+block_size] for i in ix])\n",
    "    y = torch.stack([data[i+1:i+block_size+1] for i in ix])\n",
    "    return x, y"
   ]
  },
  {
   "cell_type": "code",
   "execution_count": 75,
   "id": "f88660cf",
   "metadata": {},
   "outputs": [],
   "source": [
    "x_b, y_b = get_batch('train')"
   ]
  },
  {
   "cell_type": "code",
   "execution_count": 77,
   "id": "a6ea54a3",
   "metadata": {},
   "outputs": [
    {
     "data": {
      "text/plain": [
       "torch.Size([32])"
      ]
     },
     "execution_count": 77,
     "metadata": {},
     "output_type": "execute_result"
    }
   ],
   "source": [
    "a = x_b.view(-1)\n",
    "a.shape"
   ]
  },
  {
   "cell_type": "code",
   "execution_count": 78,
   "id": "888e18b3",
   "metadata": {},
   "outputs": [
    {
     "data": {
      "text/plain": [
       "tensor([43, 58,  5, 57,  1, 46, 43, 39, 53, 56,  1, 58, 46, 39, 58,  1, 58,  1,\n",
       "        58, 46, 39, 58,  1, 46, 17, 27, 10,  0, 21,  1, 54, 39])"
      ]
     },
     "execution_count": 78,
     "metadata": {},
     "output_type": "execute_result"
    }
   ],
   "source": [
    "y_b.view(-1)"
   ]
  },
  {
   "cell_type": "code",
   "execution_count": 80,
   "id": "1f925621",
   "metadata": {},
   "outputs": [
    {
     "name": "stdout",
     "output_type": "stream",
     "text": [
      "tensor(4.7288, grad_fn=<NllLossBackward0>)\n"
     ]
    }
   ],
   "source": [
    "model = BLModel(vocab_len)\n",
    "logits, loss = model(x_b, y_b)\n",
    "print(loss)"
   ]
  },
  {
   "cell_type": "code",
   "execution_count": 85,
   "id": "2cc5c465",
   "metadata": {},
   "outputs": [
    {
     "name": "stdout",
     "output_type": "stream",
     "text": [
      "\n",
      "LM,VPBBZslB3q;X-?XYjnnoS,KPxOhFXFVAB:$Ssy'KiuBH:iztcqsjOV? ypX.CV?E,IW!B3RrkQ3slxSJWyp\n",
      "RxruO ?OmnCV?\n"
     ]
    }
   ],
   "source": [
    "idx = torch.zeros((1, 1), dtype=torch.long)\n",
    "print(decode(model.generate(idx, max_tokens=100)[0].tolist()))"
   ]
  },
  {
   "cell_type": "code",
   "execution_count": 90,
   "id": "84c7dc49",
   "metadata": {},
   "outputs": [],
   "source": [
    "optimizer = torch.optim.AdamW(model.parameters(), lr=1e-3)"
   ]
  },
  {
   "cell_type": "code",
   "execution_count": 102,
   "id": "33b29d4f",
   "metadata": {},
   "outputs": [
    {
     "name": "stdout",
     "output_type": "stream",
     "text": [
      "2.54422664642334\n"
     ]
    }
   ],
   "source": [
    "batch_size = 32\n",
    "epochs = 10000\n",
    "\n",
    "for i in range(epochs):\n",
    "    x, y = get_batch('train', batch_size)\n",
    "    logits, loss = model(x, y)\n",
    "    \n",
    "    optimizer.zero_grad()\n",
    "    loss.backward()\n",
    "    optimizer.step()\n",
    "print(loss.item())"
   ]
  },
  {
   "cell_type": "code",
   "execution_count": 103,
   "id": "57a1f8f6",
   "metadata": {},
   "outputs": [
    {
     "name": "stdout",
     "output_type": "stream",
     "text": [
      "\n",
      "DUSearspl woalsorthathay st sly ch hentrse,\n",
      "\n",
      "'sur titest'es anaswh; s'drvisthe ANTI tshef mif thithonik y\n",
      "ARDYer mit, t velags g I beffuror, tou IONTanoredie mabongrelash, buste sicod.\n",
      "\n",
      "Medosewnof the offt, atingey y hear w, tontr hee ct meho myoulorey;\n",
      "Antlondy wek thal,\n",
      "Cony hath, win, wl d r's n \n"
     ]
    }
   ],
   "source": [
    "idx = torch.zeros((1, 1), dtype=torch.long)\n",
    "print(decode(model.generate(idx, max_tokens=300)[0].tolist()))"
   ]
  },
  {
   "cell_type": "code",
   "execution_count": 39,
   "id": "068a2f46",
   "metadata": {},
   "outputs": [
    {
     "name": "stdout",
     "output_type": "stream",
     "text": [
      "tensor([0, 1, 2, 3, 4, 5, 6, 7])\n",
      "[tensor([-0.1360, -0.4326,  0.7615, -0.8889, -1.2581,  0.7896, -0.0308,  0.4394,\n",
      "        -0.7868,  0.8417,  0.6901, -0.1989,  2.2285,  0.0775,  0.3692,  1.1617,\n",
      "         1.0096,  0.0471, -1.6527,  0.4753,  1.3813, -0.4455,  0.0853,  1.5816,\n",
      "        -1.7010,  0.3399,  0.2559,  0.8622, -0.6977,  0.2110,  1.0457,  0.7995],\n",
      "       grad_fn=<UnbindBackward0>), tensor([-0.4958, -0.5321, -0.0093, -0.1969,  0.3079, -0.0489, -1.8682, -1.4695,\n",
      "        -0.0491, -0.7463, -0.7415,  1.9469,  0.3440, -0.2296, -0.5075, -1.4917,\n",
      "        -0.6732, -0.3399, -0.4867,  0.7179, -1.9880,  0.5867,  0.4187, -0.5697,\n",
      "        -0.2930,  0.5169, -0.1086,  0.9301, -1.5397, -1.4829, -0.3558,  1.5564],\n",
      "       grad_fn=<UnbindBackward0>), tensor([-0.2727,  0.8650,  2.2066,  0.6425, -0.2533,  0.2507,  0.5127, -0.5012,\n",
      "         0.9489,  0.4927, -1.9828,  1.8919,  0.6860, -0.7374,  0.7541,  0.1292,\n",
      "         0.9509,  0.7362,  2.4035,  1.4060,  0.3669, -0.8453, -1.6132, -0.2096,\n",
      "        -0.4056, -1.0018, -0.3223, -0.1501,  0.0706, -0.5188,  0.6969, -0.4548],\n",
      "       grad_fn=<UnbindBackward0>), tensor([-0.3645, -0.4919, -2.0008,  0.9392, -0.8530,  1.1026,  0.9295,  0.8857,\n",
      "         0.6572,  2.1159, -0.9391, -1.4453,  0.0593, -0.6212,  1.4797, -0.5436,\n",
      "         1.2864, -0.4751, -0.9659, -1.0075, -1.1147, -0.6217, -1.0860,  0.2673,\n",
      "        -0.5988, -2.4665,  0.5922,  0.1147,  0.2242, -0.7829,  0.5452, -0.4762],\n",
      "       grad_fn=<UnbindBackward0>), tensor([ 0.1557,  0.5404,  1.2076, -0.2540,  0.3614, -0.0804, -1.0693,  0.5572,\n",
      "        -0.6398, -0.1960,  0.3675,  0.2605, -1.1502, -1.0350,  0.1722,  0.0557,\n",
      "         2.4982, -0.3178, -0.4432,  0.7893,  1.8758,  0.8120,  1.7531, -0.2093,\n",
      "         0.1332,  0.5549,  0.6623, -1.5461,  0.8292, -1.9684,  0.4399,  0.4337],\n",
      "       grad_fn=<UnbindBackward0>), tensor([ 0.9832, -1.1490, -1.2223,  1.2081, -0.2775,  0.9183, -2.3427, -0.6327,\n",
      "        -0.8598,  0.5399,  0.0390, -0.1945,  0.7450,  0.6350, -0.2742,  0.4999,\n",
      "        -0.2962, -0.5490,  0.6424, -1.2461, -1.1986,  0.1755,  0.4551,  0.6673,\n",
      "        -0.9075, -0.6837,  0.3419, -0.3732,  0.8519,  0.4046,  0.4603, -2.0688],\n",
      "       grad_fn=<UnbindBackward0>), tensor([ 0.3291, -1.4101, -0.4592,  0.6728,  1.6408, -0.5126,  0.0979, -0.3094,\n",
      "        -0.7066,  2.0872,  0.5555,  0.9300,  0.6649,  0.5073, -1.4737,  0.8559,\n",
      "         0.2183, -0.2904, -0.8351, -1.0198, -0.2881,  0.8300,  1.9336,  0.2194,\n",
      "         0.1270, -0.8343,  0.0392,  0.4521,  0.0420, -1.4563,  0.1233,  1.2075],\n",
      "       grad_fn=<UnbindBackward0>), tensor([-0.5707,  1.1847,  0.9438,  2.3343,  1.5540, -1.0019, -1.9806, -0.3249,\n",
      "        -0.1360,  0.4715, -0.0141, -1.0064, -0.8568, -1.6528, -0.8352, -0.2118,\n",
      "         1.2892, -1.0866, -0.4807,  0.6560,  0.4074,  1.3883,  1.0344, -2.0550,\n",
      "         0.6402, -0.5177, -0.6121, -0.3689,  1.0485,  0.9638,  0.7721, -0.9463],\n",
      "       grad_fn=<UnbindBackward0>)]\n"
     ]
    }
   ],
   "source": [
    "a = torch.arange(8)\n",
    "x = nn.Embedding(8, 32)\n",
    "c = x(a)\n",
    "print(a)\n",
    "print(list(x(a)))\n"
   ]
  },
  {
   "cell_type": "code",
   "execution_count": 50,
   "id": "f54179ec",
   "metadata": {},
   "outputs": [
    {
     "data": {
      "text/plain": [
       "torch.Size([4, 8, 32])"
      ]
     },
     "execution_count": 50,
     "metadata": {},
     "output_type": "execute_result"
    }
   ],
   "source": [
    "b, t, c = 4, 8, 32\n",
    "x = torch.randn(b, t, c)\n",
    "\n",
    "tril = torch.tril(torch.ones(t, t))\n",
    "w = torch.zeros((t, t))\n",
    "w = w.masked_fill(tril==0, float('-inf'))\n",
    "w = F.softmax(w, dim=1)\n",
    "out = w @ x\n",
    "out.shape"
   ]
  },
  {
   "cell_type": "code",
   "execution_count": 55,
   "id": "0476faef",
   "metadata": {},
   "outputs": [
    {
     "data": {
      "text/plain": [
       "tensor([[[ 0.4678,  0.4361,  0.1105, -0.0578, -0.2667, -0.0610, -0.2685,\n",
       "           0.2343, -0.0932,  0.7875,  0.1396,  0.7671,  0.6959,  0.1273,\n",
       "          -0.1844, -0.1012],\n",
       "         [ 0.6956,  0.2382, -0.1232,  0.0624,  0.4234, -0.6754, -0.0030,\n",
       "           0.0559, -0.1732,  1.0472,  0.0074,  0.9908,  0.5818,  0.0974,\n",
       "          -0.3931, -0.7754],\n",
       "         [ 0.5226,  0.3481, -0.0137, -0.0127,  0.0504, -0.2954, -0.1160,\n",
       "           0.1338, -0.1811,  0.8669,  0.0688,  0.7908,  0.5945,  0.1079,\n",
       "          -0.2718, -0.3781],\n",
       "         [ 0.1089,  0.2564, -0.1149,  0.7547,  0.3245, -0.5050,  0.0051,\n",
       "           0.0688, -0.0524,  0.3941,  0.2570,  0.2161,  0.6449,  0.4455,\n",
       "           0.1674, -0.7853],\n",
       "         [-0.1991,  0.3894, -0.1258,  0.1582,  0.0591,  0.2512,  0.1702,\n",
       "           0.0273, -0.6009,  0.2235,  0.0855, -0.1765,  0.2069,  0.1726,\n",
       "           0.0516, -0.1026],\n",
       "         [ 0.1748,  0.0503,  0.0056, -0.2091,  0.0794,  0.1152,  0.2774,\n",
       "           0.0910, -0.7538,  0.4539,  0.0404, -0.0046, -0.0077, -0.0519,\n",
       "          -0.4597, -0.2711],\n",
       "         [-0.0761,  0.0825,  0.0092,  1.1068,  0.1739, -0.5773, -0.0170,\n",
       "           0.2247,  0.0796,  0.0491,  0.3009,  0.0432,  0.5797,  0.4029,\n",
       "           0.4691, -0.9081],\n",
       "         [-0.0480,  0.1322, -0.0404,  0.9902,  0.1083, -0.5757, -0.0466,\n",
       "           0.1955,  0.0389,  0.1091,  0.1728,  0.1441,  0.5076,  0.2828,\n",
       "           0.4798, -0.7878]],\n",
       "\n",
       "        [[ 0.0984, -0.1965,  0.6754, -0.7454, -0.5717,  0.1218,  0.1043,\n",
       "           0.3307, -0.3068, -0.3036, -1.3771, -1.0402, -1.4750, -1.0549,\n",
       "           0.5456,  0.3713],\n",
       "         [ 0.1775, -0.0337,  0.3152, -0.6801, -0.5827,  0.4125,  0.2804,\n",
       "           0.1283, -0.0156, -0.0304, -0.3382, -0.0780, -0.7318, -0.3572,\n",
       "           0.5616,  0.4169],\n",
       "         [ 0.1058, -0.1899,  0.5932, -0.6840, -0.5422,  0.1266,  0.0943,\n",
       "           0.2992, -0.2549, -0.2771, -1.2458, -0.9217, -1.3513, -0.9398,\n",
       "           0.5759,  0.3738],\n",
       "         [ 0.1341, -0.2426, -0.1786,  0.0708, -0.1414, -0.0609, -0.1967,\n",
       "           0.0574,  0.1773, -0.1636, -0.4073, -0.1897, -0.3545, -0.0215,\n",
       "           0.9594,  0.3648],\n",
       "         [ 0.1882, -0.0377, -0.0452, -0.4853, -0.5321,  0.4422,  0.2445,\n",
       "          -0.0345,  0.1919,  0.2629,  0.3837,  0.6075, -0.1350,  0.2234,\n",
       "           0.5333,  0.3327],\n",
       "         [ 0.0240, -0.3517,  0.1622, -0.2250, -0.4267, -0.0231, -0.1309,\n",
       "           0.1390, -0.0510,  0.2024, -0.3190, -0.2003, -0.5438, -0.1460,\n",
       "           0.3719,  0.0947],\n",
       "         [ 0.0055,  0.2650,  0.8943, -1.0389, -0.4180,  0.7566, -0.7733,\n",
       "           0.0197, -0.3389,  0.0152,  0.5487, -0.2823,  0.2171,  0.1215,\n",
       "          -0.2826,  0.0321],\n",
       "         [ 0.0388, -0.2874, -0.4255,  0.4997,  0.1955, -0.3298, -0.6511,\n",
       "           0.0355,  0.0911, -0.3231, -0.6102, -0.7112, -0.1984,  0.0500,\n",
       "           0.8805,  0.2947]],\n",
       "\n",
       "        [[-0.1079,  0.3107, -0.1444,  0.0602,  0.8295, -0.2950, -0.0489,\n",
       "          -0.5641, -0.3206, -0.4811,  0.1945,  0.0336,  0.7225,  0.1070,\n",
       "          -0.0782, -0.1840],\n",
       "         [-0.0380, -0.2677,  1.1185,  0.0970, -0.1148,  0.2606,  1.5034,\n",
       "          -0.5727,  0.3041, -0.3155,  0.2094,  0.3640, -0.5985, -0.2083,\n",
       "           1.5549,  0.1033],\n",
       "         [ 0.0405, -0.0204,  0.6363,  0.0984,  0.2040,  0.1079,  0.9012,\n",
       "          -0.3835,  0.0445, -0.3393,  0.1654,  0.2547, -0.2262, -0.1081,\n",
       "           0.8831,  0.0380],\n",
       "         [ 0.1648,  0.0529,  0.4864,  0.2177,  0.4136,  0.1976,  0.3710,\n",
       "          -0.3267,  0.1237, -0.5087,  0.1838,  0.2247, -0.0776,  0.1836,\n",
       "           0.7238, -0.0044],\n",
       "         [ 0.1455, -0.0044,  0.5383,  0.3242,  0.5019,  0.2864,  0.1553,\n",
       "          -0.5045,  0.3235, -0.6638,  0.2538,  0.2276,  0.0163,  0.4169,\n",
       "           0.8953, -0.0594],\n",
       "         [ 0.0579, -0.2778,  0.4036,  0.5362,  0.2253,  0.1222,  0.6911,\n",
       "          -0.1309,  0.3370, -0.3259,  0.3093,  0.1192, -0.2058,  0.1703,\n",
       "           0.8158,  0.0488],\n",
       "         [-0.0106, -0.1537,  0.1272,  0.6474,  0.3006,  0.0443,  0.4880,\n",
       "           0.0106,  0.2719, -0.1306,  0.2963,  0.0914, -0.0591,  0.1289,\n",
       "           0.5578, -0.0623],\n",
       "         [-0.0472, -0.7308, -0.0216,  0.5755,  0.8068, -0.0390, -0.9357,\n",
       "           0.3471,  0.2400, -1.3613, -0.0040, -0.1191,  0.4862, -0.0699,\n",
       "           0.1676, -0.4713]],\n",
       "\n",
       "        [[ 0.1561,  0.5285, -0.7373, -0.7909, -0.5783,  0.2663,  0.4470,\n",
       "           0.7625, -1.4563, -0.0395, -0.8566, -1.4567, -1.4778, -0.4621,\n",
       "           0.6966,  0.9467],\n",
       "         [-0.0333, -0.6440, -0.5306, -0.3016, -0.2386, -0.1726, -0.2304,\n",
       "          -0.0723,  0.0024, -0.5537, -0.4462, -0.8971, -0.8846, -0.2446,\n",
       "           0.6568,  0.4882],\n",
       "         [ 0.5220,  0.0104, -0.4834,  0.0689, -0.1276, -0.0839,  0.2186,\n",
       "          -0.2984, -0.3736, -0.2713, -0.0715, -1.1996, -0.4847,  0.4815,\n",
       "           0.6698,  0.6108],\n",
       "         [ 0.3549, -0.3456, -0.2236, -0.2629, -0.5139, -0.1253,  0.0795,\n",
       "          -0.3666, -0.2931, -0.0482,  0.0577, -0.9101, -0.6610,  0.1993,\n",
       "           0.2932,  0.2878],\n",
       "         [ 0.4247, -0.2801, -0.5831, -0.1809, -0.3862, -0.3583,  0.0083,\n",
       "          -0.2285, -0.1466, -0.0788, -0.1507, -1.0289, -0.4314,  0.3744,\n",
       "           0.2644,  0.6288],\n",
       "         [ 0.6206, -0.1842, -0.4340,  0.1805, -0.1925, -0.3131,  0.0994,\n",
       "          -0.5423, -0.0449, -0.1280,  0.1641, -1.0291, -0.1376,  0.7488,\n",
       "           0.3717,  0.5189],\n",
       "         [ 0.1947, -0.0655, -0.3351,  0.2700, -0.2099, -0.2241, -0.0980,\n",
       "          -0.1852, -0.1142, -0.0843,  0.1292, -0.5234,  0.0037,  0.4070,\n",
       "           0.2328,  0.3439],\n",
       "         [ 0.1396, -0.2735, -0.5404, -0.3051, -0.5226, -0.3774, -0.2854,\n",
       "          -0.3870,  0.0836, -0.0246, -0.0948, -0.5489, -0.3094,  0.2204,\n",
       "          -0.0200,  0.2237]]], grad_fn=<UnsafeViewBackward0>)"
      ]
     },
     "execution_count": 55,
     "metadata": {},
     "output_type": "execute_result"
    }
   ],
   "source": [
    "head_size = 16\n",
    "key = nn.Linear(c, head_size, bias=False)\n",
    "query = nn.Linear(c, head_size, bias=False)\n",
    "value = nn.Linear(c, head_size, bias=False)\n",
    "\n",
    "k = key(x)\n",
    "q = query(x)\n",
    "w = q @ k.transpose(-2, -1)\n",
    "w = w.masked_fill(tril==0, float('-inf'))\n",
    "w = F.softmax(w, dim=-1)\n",
    "\n",
    "v = value(x)\n",
    "out = w @ v\n",
    "out"
   ]
  },
  {
   "cell_type": "code",
   "execution_count": null,
   "id": "156ca30b",
   "metadata": {},
   "outputs": [],
   "source": []
  }
 ],
 "metadata": {
  "kernelspec": {
   "display_name": "Python 3 (ipykernel)",
   "language": "python",
   "name": "python3"
  },
  "language_info": {
   "codemirror_mode": {
    "name": "ipython",
    "version": 3
   },
   "file_extension": ".py",
   "mimetype": "text/x-python",
   "name": "python",
   "nbconvert_exporter": "python",
   "pygments_lexer": "ipython3",
   "version": "3.9.16"
  }
 },
 "nbformat": 4,
 "nbformat_minor": 5
}
