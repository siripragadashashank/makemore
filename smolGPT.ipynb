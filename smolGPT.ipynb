{
 "cells": [
  {
   "cell_type": "code",
   "execution_count": 1,
   "id": "6f5b4d94",
   "metadata": {},
   "outputs": [],
   "source": [
    "import torch\n",
    "import torch.nn as nn\n",
    "import torch.functional as F\n",
    "\n",
    "%load_ext autoreload\n",
    "%autoreload 2"
   ]
  },
  {
   "cell_type": "code",
   "execution_count": 2,
   "id": "5694afab",
   "metadata": {},
   "outputs": [],
   "source": [
    "from BLM import BLModel"
   ]
  },
  {
   "cell_type": "code",
   "execution_count": 3,
   "id": "8fa7c1b0",
   "metadata": {},
   "outputs": [
    {
     "name": "stdout",
     "output_type": "stream",
     "text": [
      "1115394\n"
     ]
    }
   ],
   "source": [
    "with open('input.txt', 'r', encoding='utf-8') as fp:\n",
    "    text = fp.read()\n",
    "\n",
    "    \n",
    "print(len(text))"
   ]
  },
  {
   "cell_type": "code",
   "execution_count": 4,
   "id": "424fc6f1",
   "metadata": {},
   "outputs": [
    {
     "data": {
      "text/plain": [
       "63"
      ]
     },
     "execution_count": 4,
     "metadata": {},
     "output_type": "execute_result"
    }
   ],
   "source": [
    "max([len(line) for line in text.splitlines()])"
   ]
  },
  {
   "cell_type": "code",
   "execution_count": 5,
   "id": "3fdc5aaa",
   "metadata": {},
   "outputs": [
    {
     "data": {
      "text/plain": [
       "65"
      ]
     },
     "execution_count": 5,
     "metadata": {},
     "output_type": "execute_result"
    }
   ],
   "source": [
    "chars = sorted(list(set(text)))\n",
    "vocab_len = len(chars)\n",
    "vocab_len"
   ]
  },
  {
   "cell_type": "code",
   "execution_count": 6,
   "id": "dfc3535f",
   "metadata": {},
   "outputs": [
    {
     "name": "stdout",
     "output_type": "stream",
     "text": [
      "[46, 43, 50, 50, 53]\n",
      "hello\n"
     ]
    }
   ],
   "source": [
    "stoi = {ch:i for i, ch in enumerate(chars)}\n",
    "itos = {i:ch for i, ch in enumerate(chars)}\n",
    "encode = lambda s:[stoi[c] for c in s]\n",
    "decode = lambda l: \"\".join([itos[i] for i in l])\n",
    "print(encode(\"hello\"))\n",
    "print(decode([46, 43, 50, 50, 53]))"
   ]
  },
  {
   "cell_type": "code",
   "execution_count": 7,
   "id": "9dc7e22f",
   "metadata": {},
   "outputs": [
    {
     "data": {
      "text/plain": [
       "torch.Size([1115394])"
      ]
     },
     "execution_count": 7,
     "metadata": {},
     "output_type": "execute_result"
    }
   ],
   "source": [
    "encoded_text = encode(text)\n",
    "data = torch.tensor(encoded_text, dtype=torch.long)\n",
    "data.shape"
   ]
  },
  {
   "cell_type": "code",
   "execution_count": 72,
   "id": "ac762a67",
   "metadata": {},
   "outputs": [],
   "source": [
    "n = int(0.9*len(data))\n",
    "train = data[:n]\n",
    "val = data[n:]"
   ]
  },
  {
   "cell_type": "code",
   "execution_count": 73,
   "id": "c6afb869",
   "metadata": {},
   "outputs": [],
   "source": [
    "block_size = 8"
   ]
  },
  {
   "cell_type": "code",
   "execution_count": 87,
   "id": "bffd72e6",
   "metadata": {},
   "outputs": [],
   "source": [
    "torch.manual_seed(1337)\n",
    "batch_size = 4\n",
    "\n",
    "def get_batch(split, batch_size):\n",
    "    data = train if split=='train' else val\n",
    "    ix = torch.randint(0, len(data) - block_size, (batch_size,))\n",
    "    x = torch.stack([data[i:i+block_size] for i in ix])\n",
    "    y = torch.stack([data[i+1:i+block_size+1] for i in ix])\n",
    "    return x, y"
   ]
  },
  {
   "cell_type": "code",
   "execution_count": 75,
   "id": "f88660cf",
   "metadata": {},
   "outputs": [],
   "source": [
    "x_b, y_b = get_batch('train')"
   ]
  },
  {
   "cell_type": "code",
   "execution_count": 77,
   "id": "7aac747f",
   "metadata": {},
   "outputs": [
    {
     "data": {
      "text/plain": [
       "torch.Size([32])"
      ]
     },
     "execution_count": 77,
     "metadata": {},
     "output_type": "execute_result"
    }
   ],
   "source": [
    "a = x_b.view(-1)\n",
    "a.shape"
   ]
  },
  {
   "cell_type": "code",
   "execution_count": 78,
   "id": "ecda1fe3",
   "metadata": {},
   "outputs": [
    {
     "data": {
      "text/plain": [
       "tensor([43, 58,  5, 57,  1, 46, 43, 39, 53, 56,  1, 58, 46, 39, 58,  1, 58,  1,\n",
       "        58, 46, 39, 58,  1, 46, 17, 27, 10,  0, 21,  1, 54, 39])"
      ]
     },
     "execution_count": 78,
     "metadata": {},
     "output_type": "execute_result"
    }
   ],
   "source": [
    "y_b.view(-1)"
   ]
  },
  {
   "cell_type": "code",
   "execution_count": 80,
   "id": "1f925621",
   "metadata": {},
   "outputs": [
    {
     "name": "stdout",
     "output_type": "stream",
     "text": [
      "tensor(4.7288, grad_fn=<NllLossBackward0>)\n"
     ]
    }
   ],
   "source": [
    "model = BLModel(vocab_len)\n",
    "logits, loss = model(x_b, y_b)\n",
    "print(loss)"
   ]
  },
  {
   "cell_type": "code",
   "execution_count": 85,
   "id": "2cc5c465",
   "metadata": {},
   "outputs": [
    {
     "name": "stdout",
     "output_type": "stream",
     "text": [
      "\n",
      "LM,VPBBZslB3q;X-?XYjnnoS,KPxOhFXFVAB:$Ssy'KiuBH:iztcqsjOV? ypX.CV?E,IW!B3RrkQ3slxSJWyp\n",
      "RxruO ?OmnCV?\n"
     ]
    }
   ],
   "source": [
    "idx = torch.zeros((1, 1), dtype=torch.long)\n",
    "print(decode(model.generate(idx, max_tokens=100)[0].tolist()))"
   ]
  },
  {
   "cell_type": "code",
   "execution_count": 90,
   "id": "84c7dc49",
   "metadata": {},
   "outputs": [],
   "source": [
    "optimizer = torch.optim.AdamW(model.parameters(), lr=1e-3)"
   ]
  },
  {
   "cell_type": "code",
   "execution_count": 102,
   "id": "ad0cb702",
   "metadata": {},
   "outputs": [
    {
     "name": "stdout",
     "output_type": "stream",
     "text": [
      "2.54422664642334\n"
     ]
    }
   ],
   "source": [
    "batch_size = 32\n",
    "epochs = 10000\n",
    "\n",
    "for i in range(epochs):\n",
    "    x, y = get_batch('train', batch_size)\n",
    "    logits, loss = model(x, y)\n",
    "    \n",
    "    optimizer.zero_grad()\n",
    "    loss.backward()\n",
    "    optimizer.step()\n",
    "print(loss.item())"
   ]
  },
  {
   "cell_type": "code",
   "execution_count": 103,
   "id": "9fa9ffe6",
   "metadata": {},
   "outputs": [
    {
     "name": "stdout",
     "output_type": "stream",
     "text": [
      "\n",
      "DUSearspl woalsorthathay st sly ch hentrse,\n",
      "\n",
      "'sur titest'es anaswh; s'drvisthe ANTI tshef mif thithonik y\n",
      "ARDYer mit, t velags g I beffuror, tou IONTanoredie mabongrelash, buste sicod.\n",
      "\n",
      "Medosewnof the offt, atingey y hear w, tontr hee ct meho myoulorey;\n",
      "Antlondy wek thal,\n",
      "Cony hath, win, wl d r's n \n"
     ]
    }
   ],
   "source": [
    "idx = torch.zeros((1, 1), dtype=torch.long)\n",
    "print(decode(model.generate(idx, max_tokens=300)[0].tolist()))"
   ]
  },
  {
   "cell_type": "code",
   "execution_count": null,
   "id": "e09ebd55",
   "metadata": {},
   "outputs": [],
   "source": []
  }
 ],
 "metadata": {
  "kernelspec": {
   "display_name": "Python 3 (ipykernel)",
   "language": "python",
   "name": "python3"
  },
  "language_info": {
   "codemirror_mode": {
    "name": "ipython",
    "version": 3
   },
   "file_extension": ".py",
   "mimetype": "text/x-python",
   "name": "python",
   "nbconvert_exporter": "python",
   "pygments_lexer": "ipython3",
   "version": "3.9.16"
  }
 },
 "nbformat": 4,
 "nbformat_minor": 5
}
