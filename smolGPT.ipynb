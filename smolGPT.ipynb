{
 "cells": [
  {
   "cell_type": "code",
   "execution_count": 52,
   "id": "6f5b4d94",
   "metadata": {},
   "outputs": [],
   "source": [
    "import torch\n",
    "import torch.nn as nn\n",
    "import torch.functional as F\n",
    "\n",
    "%load_ext autoreload\n",
    "%autoreload 2"
   ]
  },
  {
   "cell_type": "code",
   "execution_count": 62,
   "id": "5694afab",
   "metadata": {},
   "outputs": [],
   "source": [
    "from BLM import BLModel"
   ]
  },
  {
   "cell_type": "code",
   "execution_count": 1,
   "id": "8fa7c1b0",
   "metadata": {},
   "outputs": [
    {
     "name": "stdout",
     "output_type": "stream",
     "text": [
      "1115394\n"
     ]
    }
   ],
   "source": [
    "with open('input.txt', 'r', encoding='utf-8') as fp:\n",
    "    text = fp.read()\n",
    "\n",
    "    \n",
    "print(len(text))"
   ]
  },
  {
   "cell_type": "code",
   "execution_count": 20,
   "id": "424fc6f1",
   "metadata": {},
   "outputs": [
    {
     "data": {
      "text/plain": [
       "63"
      ]
     },
     "execution_count": 20,
     "metadata": {},
     "output_type": "execute_result"
    }
   ],
   "source": [
    "max([len(line) for line in text.splitlines()])"
   ]
  },
  {
   "cell_type": "code",
   "execution_count": 3,
   "id": "3fdc5aaa",
   "metadata": {},
   "outputs": [
    {
     "data": {
      "text/plain": [
       "65"
      ]
     },
     "execution_count": 3,
     "metadata": {},
     "output_type": "execute_result"
    }
   ],
   "source": [
    "chars = sorted(list(set(text)))\n",
    "vocab_len = len(chars)\n",
    "vocab_len"
   ]
  },
  {
   "cell_type": "code",
   "execution_count": 11,
   "id": "dfc3535f",
   "metadata": {},
   "outputs": [
    {
     "name": "stdout",
     "output_type": "stream",
     "text": [
      "[46, 43, 50, 50, 53]\n",
      "hello\n"
     ]
    }
   ],
   "source": [
    "stoi = {ch:i for i, ch in enumerate(chars)}\n",
    "itos = {i:ch for i, ch in enumerate(chars)}\n",
    "encode = lambda s:[stoi[c] for c in s]\n",
    "decode = lambda l: \"\".join([itos[i] for i in l])\n",
    "print(encode(\"hello\"))\n",
    "print(decode([46, 43, 50, 50, 53]))"
   ]
  },
  {
   "cell_type": "code",
   "execution_count": 15,
   "id": "9dc7e22f",
   "metadata": {},
   "outputs": [
    {
     "data": {
      "text/plain": [
       "torch.Size([1115394])"
      ]
     },
     "execution_count": 15,
     "metadata": {},
     "output_type": "execute_result"
    }
   ],
   "source": [
    "encoded_text = encode(text)\n",
    "data = torch.tensor(encoded_text, dtype=torch.long)\n",
    "data.shape"
   ]
  },
  {
   "cell_type": "code",
   "execution_count": 16,
   "id": "ac762a67",
   "metadata": {},
   "outputs": [],
   "source": [
    "n = int(0.9*len(data))\n",
    "train = data[:n]\n",
    "val = data[n:]"
   ]
  },
  {
   "cell_type": "code",
   "execution_count": 21,
   "id": "c6afb869",
   "metadata": {},
   "outputs": [],
   "source": [
    "block_size = 8"
   ]
  },
  {
   "cell_type": "code",
   "execution_count": 65,
   "id": "bffd72e6",
   "metadata": {},
   "outputs": [],
   "source": [
    "torch.manual_seed(1337)\n",
    "batch_size = 4\n",
    "\n",
    "def get_batch(split):\n",
    "    data = train if split=='train' else val\n",
    "    ix = torch.randint(0, len(data) - block_size, (batch_size,))\n",
    "    x = torch.stack([data[i:i+block_size] for i in ix])\n",
    "    y = torch.stack([data[i+1:i+block_size+1] for i in ix])\n",
    "    return x, y"
   ]
  },
  {
   "cell_type": "code",
   "execution_count": 66,
   "id": "f88660cf",
   "metadata": {},
   "outputs": [],
   "source": [
    "x_b, y_b = get_batch('train')"
   ]
  },
  {
   "cell_type": "code",
   "execution_count": 67,
   "id": "1f925621",
   "metadata": {},
   "outputs": [
    {
     "name": "stdout",
     "output_type": "stream",
     "text": [
      "tensor([[ 1.6347, -0.0518,  0.4996,  ...,  0.2432,  1.1519,  0.9950],\n",
      "        [ 0.3418, -0.9276,  1.2381,  ...,  1.5018, -0.5266,  0.2354],\n",
      "        [ 0.1479, -0.4333,  0.5203,  ...,  0.3302,  1.5454,  1.3778],\n",
      "        ...,\n",
      "        [-0.5693, -0.0735,  0.7743,  ..., -0.0815, -1.1445, -0.0623],\n",
      "        [ 0.4658, -0.2573, -1.0673,  ...,  1.2439,  1.3471,  1.6910],\n",
      "        [-0.4553,  0.0139,  0.9309,  ...,  0.0290, -0.7568,  0.8701]],\n",
      "       grad_fn=<ViewBackward0>) tensor(5.0364, grad_fn=<NllLossBackward0>)\n"
     ]
    }
   ],
   "source": [
    "model = BLModel(vocab_len)\n",
    "logits, loss = model(x_b, y_b)\n",
    "print(logits, loss)"
   ]
  },
  {
   "cell_type": "code",
   "execution_count": null,
   "id": "2cc5c465",
   "metadata": {},
   "outputs": [],
   "source": []
  },
  {
   "cell_type": "code",
   "execution_count": null,
   "id": "84c7dc49",
   "metadata": {},
   "outputs": [],
   "source": []
  }
 ],
 "metadata": {
  "kernelspec": {
   "display_name": "Python 3 (ipykernel)",
   "language": "python",
   "name": "python3"
  },
  "language_info": {
   "codemirror_mode": {
    "name": "ipython",
    "version": 3
   },
   "file_extension": ".py",
   "mimetype": "text/x-python",
   "name": "python",
   "nbconvert_exporter": "python",
   "pygments_lexer": "ipython3",
   "version": "3.9.16"
  }
 },
 "nbformat": 4,
 "nbformat_minor": 5
}
